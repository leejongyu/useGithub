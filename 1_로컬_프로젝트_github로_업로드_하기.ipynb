{
  "nbformat": 4,
  "nbformat_minor": 0,
  "metadata": {
    "colab": {
      "provenance": [],
      "toc_visible": true
    },
    "kernelspec": {
      "name": "python3",
      "display_name": "Python 3"
    },
    "language_info": {
      "name": "python"
    }
  },
  "cells": [
    {
      "cell_type": "markdown",
      "source": [
        "# 로컬 프로젝트 github에 업로드 하기\n",
        "\n",
        " 1. 로컬프로젝트 마우스 오른쪽 (git bash here) 클릭\n",
        "\n",
        " 2. 깃 설정 (git은 ctrl c+v가 아니라 shift+insert)\n",
        "    * git config --global user.name [유저이름]\n",
        "    * git config --global user.email [유저 이메일]\n",
        "\n",
        " 3. 로컬 저장소 생성\n",
        "  * git init (로컬 프로젝트는 branch가 자동으로 master로 되어 있어서 branch를 main으로 변경해야 함)\n",
        "    >> * git show-ref \n",
        "    >> * git branch (branch가 master로 되어 있는지 확인)\n",
        "    >> * git branch -m master [main(브랜치 이름)] (master로 되어있는 branch를 main으로 수정)\n",
        "    >>> *  git config --global init.defaultBranch [브랜치 이름]     \n",
        "    >>> * 위의 과정이 번거로우니 다음과 같이 해주면 git을 init 할 때 마다 브랜치 이름을 [브랜치 이름]으로 한다.\n",
        "\n",
        " 4. 저장소와 연결\n",
        "    * git remote add origin [깃허브 프로젝트 주소] (깃허브 프로젝트에서 초록색 [CODE] 라고 적힌 드롭다운을 누르면 모이는 주소. \n",
        "    >> * 일반적으로 (https://github.com/유저 이름/프로젝트 이름.git)\n",
        "    >> * git remote -v (저장소가 잘 연결 되었는지 확인)\n",
        "    >> * git remote rm origin (만약, remote add 과정에서 잘못 입력하였을 경우로 연결 취소)\n",
        "    * git pull origin [브랜치 이름] (저장소의 파일들을 가져오기)\n",
        "\n",
        " 5. 파일 추가\n",
        "    * git add . (add '띄어쓰기' . 해야함. 선택한 폴더의 모든 파일을 add)\n",
        "    * git status (변경사항 확인. 추가 = 녹색, 삭제 = 빨간색으로 나타남)\n",
        "    >> * git rm --cached -r . (add 취소)\n",
        "    * git commit -m [메시지] (commit 하기)\n",
        "    * git push origin [브랜치 이름] (push 하기)\n",
        "    >> git push origin +[브랜치 이름] (강제로 push)\n"
      ],
      "metadata": {
        "id": "YLgWCJHlqwI-"
      }
    }
  ]
}
